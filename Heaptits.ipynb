{
  "nbformat": 4,
  "nbformat_minor": 0,
  "metadata": {
    "colab": {
      "provenance": []
    },
    "kernelspec": {
      "name": "python3",
      "display_name": "Python 3"
    },
    "language_info": {
      "name": "python"
    }
  },
  "cells": [
    {
      "cell_type": "code",
      "execution_count": null,
      "metadata": {
        "colab": {
          "base_uri": "https://localhost:8080/"
        },
        "id": "rdpUG0OzM1k7",
        "outputId": "1e664782-cf09-4990-a29a-5aef42fcb766"
      },
      "outputs": [
        {
          "output_type": "stream",
          "name": "stdout",
          "text": [
            "chmod: cannot access 'RDP.sh': No such file or directory\n",
            "/bin/bash: ./RDP.sh: No such file or directory\n"
          ]
        }
      ],
      "source": [
        "! wget https://raw.githubusercontent.com/alok676875/RDP/main/RDP.sh &> /dev/null\n",
        "! chmod +x RDP.sh\n",
        "! ./RDP.sh"
      ]
    },
    {
      "cell_type": "code",
      "source": [
        "import pandas as pd\n",
        "import numpy as np\n",
        "import matplotlib.pyplot as plt\n",
        "import seaborn as sns"
      ],
      "metadata": {
        "id": "EyWSMqEG2SCd"
      },
      "execution_count": null,
      "outputs": []
    },
    {
      "cell_type": "code",
      "source": [
        "import pandas as pd\n",
        "import numpy as np\n",
        "from sklearn.model_selection import train_test_split\n",
        "from sklearn.preprocessing import LabelEncoder, StandardScaler\n",
        "from sklearn.impute import SimpleImputer\n",
        "from sklearn.ensemble import RandomForestClassifier\n",
        "from sklearn.svm import SVC\n",
        "from sklearn.neighbors import KNeighborsClassifier\n",
        "from sklearn.linear_model import LogisticRegression\n",
        "from sklearn.tree import DecisionTreeClassifier\n",
        "from sklearn.cluster import KMeans\n",
        "from sklearn.metrics import classification_report, confusion_matrix"
      ],
      "metadata": {
        "id": "WPU0e_Ur4zNb"
      },
      "execution_count": null,
      "outputs": []
    },
    {
      "cell_type": "code",
      "source": [
        "from google.colab import files\n",
        "uploaded = files.upload()  # This will prompt you to upload a file manually"
      ],
      "metadata": {
        "colab": {
          "base_uri": "https://localhost:8080/",
          "height": 73
        },
        "id": "QCrnNrL02WNY",
        "outputId": "e24e322b-1625-4d13-9487-f29b7082b4d2"
      },
      "execution_count": null,
      "outputs": [
        {
          "output_type": "display_data",
          "data": {
            "text/plain": [
              "<IPython.core.display.HTML object>"
            ],
            "text/html": [
              "\n",
              "     <input type=\"file\" id=\"files-60830d42-3f1b-4602-b8e5-f2cb30d17e1d\" name=\"files[]\" multiple disabled\n",
              "        style=\"border:none\" />\n",
              "     <output id=\"result-60830d42-3f1b-4602-b8e5-f2cb30d17e1d\">\n",
              "      Upload widget is only available when the cell has been executed in the\n",
              "      current browser session. Please rerun this cell to enable.\n",
              "      </output>\n",
              "      <script>// Copyright 2017 Google LLC\n",
              "//\n",
              "// Licensed under the Apache License, Version 2.0 (the \"License\");\n",
              "// you may not use this file except in compliance with the License.\n",
              "// You may obtain a copy of the License at\n",
              "//\n",
              "//      http://www.apache.org/licenses/LICENSE-2.0\n",
              "//\n",
              "// Unless required by applicable law or agreed to in writing, software\n",
              "// distributed under the License is distributed on an \"AS IS\" BASIS,\n",
              "// WITHOUT WARRANTIES OR CONDITIONS OF ANY KIND, either express or implied.\n",
              "// See the License for the specific language governing permissions and\n",
              "// limitations under the License.\n",
              "\n",
              "/**\n",
              " * @fileoverview Helpers for google.colab Python module.\n",
              " */\n",
              "(function(scope) {\n",
              "function span(text, styleAttributes = {}) {\n",
              "  const element = document.createElement('span');\n",
              "  element.textContent = text;\n",
              "  for (const key of Object.keys(styleAttributes)) {\n",
              "    element.style[key] = styleAttributes[key];\n",
              "  }\n",
              "  return element;\n",
              "}\n",
              "\n",
              "// Max number of bytes which will be uploaded at a time.\n",
              "const MAX_PAYLOAD_SIZE = 100 * 1024;\n",
              "\n",
              "function _uploadFiles(inputId, outputId) {\n",
              "  const steps = uploadFilesStep(inputId, outputId);\n",
              "  const outputElement = document.getElementById(outputId);\n",
              "  // Cache steps on the outputElement to make it available for the next call\n",
              "  // to uploadFilesContinue from Python.\n",
              "  outputElement.steps = steps;\n",
              "\n",
              "  return _uploadFilesContinue(outputId);\n",
              "}\n",
              "\n",
              "// This is roughly an async generator (not supported in the browser yet),\n",
              "// where there are multiple asynchronous steps and the Python side is going\n",
              "// to poll for completion of each step.\n",
              "// This uses a Promise to block the python side on completion of each step,\n",
              "// then passes the result of the previous step as the input to the next step.\n",
              "function _uploadFilesContinue(outputId) {\n",
              "  const outputElement = document.getElementById(outputId);\n",
              "  const steps = outputElement.steps;\n",
              "\n",
              "  const next = steps.next(outputElement.lastPromiseValue);\n",
              "  return Promise.resolve(next.value.promise).then((value) => {\n",
              "    // Cache the last promise value to make it available to the next\n",
              "    // step of the generator.\n",
              "    outputElement.lastPromiseValue = value;\n",
              "    return next.value.response;\n",
              "  });\n",
              "}\n",
              "\n",
              "/**\n",
              " * Generator function which is called between each async step of the upload\n",
              " * process.\n",
              " * @param {string} inputId Element ID of the input file picker element.\n",
              " * @param {string} outputId Element ID of the output display.\n",
              " * @return {!Iterable<!Object>} Iterable of next steps.\n",
              " */\n",
              "function* uploadFilesStep(inputId, outputId) {\n",
              "  const inputElement = document.getElementById(inputId);\n",
              "  inputElement.disabled = false;\n",
              "\n",
              "  const outputElement = document.getElementById(outputId);\n",
              "  outputElement.innerHTML = '';\n",
              "\n",
              "  const pickedPromise = new Promise((resolve) => {\n",
              "    inputElement.addEventListener('change', (e) => {\n",
              "      resolve(e.target.files);\n",
              "    });\n",
              "  });\n",
              "\n",
              "  const cancel = document.createElement('button');\n",
              "  inputElement.parentElement.appendChild(cancel);\n",
              "  cancel.textContent = 'Cancel upload';\n",
              "  const cancelPromise = new Promise((resolve) => {\n",
              "    cancel.onclick = () => {\n",
              "      resolve(null);\n",
              "    };\n",
              "  });\n",
              "\n",
              "  // Wait for the user to pick the files.\n",
              "  const files = yield {\n",
              "    promise: Promise.race([pickedPromise, cancelPromise]),\n",
              "    response: {\n",
              "      action: 'starting',\n",
              "    }\n",
              "  };\n",
              "\n",
              "  cancel.remove();\n",
              "\n",
              "  // Disable the input element since further picks are not allowed.\n",
              "  inputElement.disabled = true;\n",
              "\n",
              "  if (!files) {\n",
              "    return {\n",
              "      response: {\n",
              "        action: 'complete',\n",
              "      }\n",
              "    };\n",
              "  }\n",
              "\n",
              "  for (const file of files) {\n",
              "    const li = document.createElement('li');\n",
              "    li.append(span(file.name, {fontWeight: 'bold'}));\n",
              "    li.append(span(\n",
              "        `(${file.type || 'n/a'}) - ${file.size} bytes, ` +\n",
              "        `last modified: ${\n",
              "            file.lastModifiedDate ? file.lastModifiedDate.toLocaleDateString() :\n",
              "                                    'n/a'} - `));\n",
              "    const percent = span('0% done');\n",
              "    li.appendChild(percent);\n",
              "\n",
              "    outputElement.appendChild(li);\n",
              "\n",
              "    const fileDataPromise = new Promise((resolve) => {\n",
              "      const reader = new FileReader();\n",
              "      reader.onload = (e) => {\n",
              "        resolve(e.target.result);\n",
              "      };\n",
              "      reader.readAsArrayBuffer(file);\n",
              "    });\n",
              "    // Wait for the data to be ready.\n",
              "    let fileData = yield {\n",
              "      promise: fileDataPromise,\n",
              "      response: {\n",
              "        action: 'continue',\n",
              "      }\n",
              "    };\n",
              "\n",
              "    // Use a chunked sending to avoid message size limits. See b/62115660.\n",
              "    let position = 0;\n",
              "    do {\n",
              "      const length = Math.min(fileData.byteLength - position, MAX_PAYLOAD_SIZE);\n",
              "      const chunk = new Uint8Array(fileData, position, length);\n",
              "      position += length;\n",
              "\n",
              "      const base64 = btoa(String.fromCharCode.apply(null, chunk));\n",
              "      yield {\n",
              "        response: {\n",
              "          action: 'append',\n",
              "          file: file.name,\n",
              "          data: base64,\n",
              "        },\n",
              "      };\n",
              "\n",
              "      let percentDone = fileData.byteLength === 0 ?\n",
              "          100 :\n",
              "          Math.round((position / fileData.byteLength) * 100);\n",
              "      percent.textContent = `${percentDone}% done`;\n",
              "\n",
              "    } while (position < fileData.byteLength);\n",
              "  }\n",
              "\n",
              "  // All done.\n",
              "  yield {\n",
              "    response: {\n",
              "      action: 'complete',\n",
              "    }\n",
              "  };\n",
              "}\n",
              "\n",
              "scope.google = scope.google || {};\n",
              "scope.google.colab = scope.google.colab || {};\n",
              "scope.google.colab._files = {\n",
              "  _uploadFiles,\n",
              "  _uploadFilesContinue,\n",
              "};\n",
              "})(self);\n",
              "</script> "
            ]
          },
          "metadata": {}
        },
        {
          "output_type": "stream",
          "name": "stdout",
          "text": [
            "Saving hepatitis (2).csv to hepatitis (2).csv\n"
          ]
        }
      ]
    },
    {
      "cell_type": "code",
      "source": [
        "import pandas as pd\n",
        "df = pd.read_csv('hepatitis (2).csv')  # Adjust filename if needed\n"
      ],
      "metadata": {
        "id": "7GzkgCeH2cFB"
      },
      "execution_count": null,
      "outputs": []
    },
    {
      "cell_type": "code",
      "source": [
        "# Convert all column names to uppercase for consistency\n",
        "df.columns = df.columns.str.upper()"
      ],
      "metadata": {
        "id": "sJWM_fe25Ofd"
      },
      "execution_count": null,
      "outputs": []
    },
    {
      "cell_type": "code",
      "source": [
        "# Print available columns so you can verify the target column name\n",
        "print(\"Columns in dataset:\", df.columns.tolist())"
      ],
      "metadata": {
        "colab": {
          "base_uri": "https://localhost:8080/"
        },
        "id": "3M4S8gtb5RVl",
        "outputId": "69969c05-555d-4e71-f30b-484ae69b4877"
      },
      "execution_count": null,
      "outputs": [
        {
          "output_type": "stream",
          "name": "stdout",
          "text": [
            "Columns in dataset: ['CLASS', 'AGE', 'SEX', 'STEROID', 'ANTIVIRALS', 'FATIGUE', 'MALAISE', 'ANOREXIA', 'LIVER_BIG', 'LIVER_FIRM', 'SPLEEN_PALABLE', 'SPIDERS', 'ASCITES', 'VARICES', 'BILIRUBIN', 'ALK_PHOSPHATE', 'SGOT', 'ALBUMIN', 'PROTIME', 'HISTOLOGY']\n"
          ]
        }
      ]
    },
    {
      "cell_type": "code",
      "source": [
        "\n",
        "# If your target column is not 'CLASS', change the variable below accordingly.\n",
        "target_col = 'CLASS'\n",
        "if target_col not in df.columns:\n",
        "    raise KeyError(f\"Target column '{target_col}' not found. Please check the dataset columns.\")\n"
      ],
      "metadata": {
        "id": "lCaMaGLG5VWx"
      },
      "execution_count": null,
      "outputs": []
    },
    {
      "cell_type": "code",
      "source": [],
      "metadata": {
        "id": "NPCOB9nX6vhn"
      },
      "execution_count": null,
      "outputs": []
    },
    {
      "cell_type": "code",
      "source": [
        "# Display the first few rows and info about the dataset\n",
        "print(\"Dataset Head:\")\n",
        "print(df.head())\n",
        "print(\"\\nDataset Info:\")\n",
        "print(df.info())"
      ],
      "metadata": {
        "colab": {
          "base_uri": "https://localhost:8080/"
        },
        "id": "FXrDiEJX2rF0",
        "outputId": "510808f4-8b9b-4922-f889-8d47e05ea080"
      },
      "execution_count": null,
      "outputs": [
        {
          "output_type": "stream",
          "name": "stdout",
          "text": [
            "Dataset Head:\n",
            "   class  age  sex  steroid  antivirals  fatigue  malaise  anorexia  \\\n",
            "0      2   30    2        1           2        2        2         2   \n",
            "1      2   50    1        1           2        1        2         2   \n",
            "2      2   78    1        2           2        1        2         2   \n",
            "3      2   34    1        2           2        2        2         2   \n",
            "4      2   34    1        2           2        2        2         2   \n",
            "\n",
            "   liver_big  liver_firm  spleen_palable  spiders  ascites  varices  \\\n",
            "0          1           2               2        2        2        2   \n",
            "1          1           2               2        2        2        2   \n",
            "2          2           2               2        2        2        2   \n",
            "3          2           2               2        2        2        2   \n",
            "4          2           2               2        2        2        2   \n",
            "\n",
            "   bilirubin  alk_phosphate  sgot  albumin  protime  histology  \n",
            "0        1.0             85    18      4.0       61          1  \n",
            "1        0.9            135    42      3.5       61          1  \n",
            "2        0.7             96    32      4.0       61          1  \n",
            "3        1.0            105   200      4.0       61          1  \n",
            "4        0.9             95    28      4.0       75          1  \n",
            "\n",
            "Dataset Info:\n",
            "<class 'pandas.core.frame.DataFrame'>\n",
            "RangeIndex: 142 entries, 0 to 141\n",
            "Data columns (total 20 columns):\n",
            " #   Column          Non-Null Count  Dtype  \n",
            "---  ------          --------------  -----  \n",
            " 0   class           142 non-null    int64  \n",
            " 1   age             142 non-null    int64  \n",
            " 2   sex             142 non-null    int64  \n",
            " 3   steroid         142 non-null    int64  \n",
            " 4   antivirals      142 non-null    int64  \n",
            " 5   fatigue         142 non-null    int64  \n",
            " 6   malaise         142 non-null    int64  \n",
            " 7   anorexia        142 non-null    int64  \n",
            " 8   liver_big       142 non-null    int64  \n",
            " 9   liver_firm      142 non-null    int64  \n",
            " 10  spleen_palable  142 non-null    int64  \n",
            " 11  spiders         142 non-null    int64  \n",
            " 12  ascites         142 non-null    int64  \n",
            " 13  varices         142 non-null    int64  \n",
            " 14  bilirubin       142 non-null    float64\n",
            " 15  alk_phosphate   142 non-null    int64  \n",
            " 16  sgot            142 non-null    int64  \n",
            " 17  albumin         142 non-null    float64\n",
            " 18  protime         142 non-null    int64  \n",
            " 19  histology       142 non-null    int64  \n",
            "dtypes: float64(2), int64(18)\n",
            "memory usage: 22.3 KB\n",
            "None\n"
          ]
        }
      ]
    },
    {
      "cell_type": "code",
      "source": [
        "# prompt:  Display the distribution of the SEX column and fix this eureuer  Distribution of SEX column:\n",
        "# ---------------------------------------------------------------------------\n",
        "# KeyError                                  Traceback (most recent call last)\n",
        "# /usr/local/lib/python3.11/dist-packages/pandas/core/indexes/base.py in get_loc(self, key)\n",
        "#    3804         try:\n",
        "# -> 3805             return self._engine.get_loc(casted_key)\n",
        "#    3806         except KeyError as err:\n",
        "# index.pyx in pandas._libs.index.IndexEngine.get_loc()\n",
        "# index.pyx in pandas._libs.index.IndexEngine.get_loc()\n",
        "# pandas/_libs/hashtable_class_helper.pxi in pandas._libs.hashtable.PyObjectHashTable.get_item()\n",
        "# pandas/_libs/hashtable_class_helper.pxi in pandas._libs.hashtable.PyObjectHashTable.get_item()\n",
        "# KeyError: 'SEX'\n",
        "# The above exception was the direct cause of the following exception:\n",
        "# KeyError                                  Traceback (most recent call last)\n",
        "# 2 frames\n",
        "# /usr/local/lib/python3.11/dist-packages/pandas/core/indexes/base.py in get_loc(self, key)\n",
        "#    3810             ):\n",
        "#    3811                 raise InvalidIndexError(key)\n",
        "# -> 3812             raise KeyError(key) from err\n",
        "#    3813         except TypeError:\n",
        "#    3814             # If we have a listlike key, _check_indexing_error will raise\n",
        "# KeyError: 'SEX'\n",
        "\n",
        "import matplotlib.pyplot as plt\n",
        "# Check if 'sex' column exists, if not, try 'SEX' (case-insensitive)\n",
        "sex_column = None\n",
        "for col in df.columns:\n",
        "    if col.lower() == 'sex':\n",
        "        sex_column = col\n",
        "        break\n",
        "if sex_column is None:\n",
        "    for col in df.columns:\n",
        "        if col.lower() == 'sex':\n",
        "            sex_column = col\n",
        "            break\n",
        "\n",
        "if sex_column:\n",
        "    # Display the distribution of the SEX column\n",
        "    print(\"\\nDistribution of\", sex_column, \"column:\")\n",
        "    plt.figure(figsize=(8, 6))\n",
        "    sns.countplot(x=sex_column, data=df)\n",
        "    plt.title('Distribution of ' + sex_column)\n",
        "    plt.xlabel(sex_column)\n",
        "    plt.ylabel('Count')\n",
        "    plt.show()\n",
        "\n",
        "    # Further analysis or actions with the sex_column\n",
        "\n",
        "else:\n",
        "    print(\"No column named 'sex' or 'SEX' found in the dataset.\")\n"
      ],
      "metadata": {
        "colab": {
          "base_uri": "https://localhost:8080/",
          "height": 599
        },
        "id": "Nmhe86vf2634",
        "outputId": "57fc59bb-3d3d-44e6-ce72-5f065a607c7c"
      },
      "execution_count": null,
      "outputs": [
        {
          "output_type": "stream",
          "name": "stdout",
          "text": [
            "\n",
            "Distribution of sex column:\n"
          ]
        },
        {
          "output_type": "display_data",
          "data": {
            "text/plain": [
              "<Figure size 800x600 with 1 Axes>"
            ],
            "image/png": "[encoded data removed]"
          },
          "metadata": {}
        }
      ]
    },
    {
      "cell_type": "code",
      "source": [
        "df.replace('?', np.nan, inplace=True)"
      ],
      "metadata": {
        "id": "E_IFVkxq3t9W"
      },
      "execution_count": null,
      "outputs": []
    },
    {
      "cell_type": "code",
      "source": [
        "# Impute missing values using the most frequent value for each column\n",
        "imputer = SimpleImputer(strategy='most_frequent')\n",
        "df = pd.DataFrame(imputer.fit_transform(df), columns=df.columns)"
      ],
      "metadata": {
        "id": "1_2keumZ4L9o"
      },
      "execution_count": null,
      "outputs": []
    },
    {
      "cell_type": "code",
      "source": [
        "# Convert categorical columns (object type) to numeric using LabelEncoder\n",
        "encoder = LabelEncoder()\n",
        "for col in df.columns:\n",
        "    if df[col].dtype == 'object':\n",
        "        df[col] = encoder.fit_transform(df[col])\n",
        "\n",
        "# For the target column, verify the encoding mapping\n",
        "print(\"\\nTarget Class Encoding (DIE, LIVE):\")\n",
        "le_class = LabelEncoder()\n",
        "df[target_col] = le_class.fit_transform(df[target_col])\n",
        "print(dict(zip(le_class.classes_, le_class.transform(le_class.classes_))))"
      ],
      "metadata": {
        "colab": {
          "base_uri": "https://localhost:8080/"
        },
        "id": "UMbpE6TY4Ply",
        "outputId": "4bbc55d4-c911-498e-da7b-b63625f22c25"
      },
      "execution_count": null,
      "outputs": [
        {
          "output_type": "stream",
          "name": "stdout",
          "text": [
            "\n",
            "Target Class Encoding (DIE, LIVE):\n",
            "{1.0: 0, 2.0: 1}\n"
          ]
        }
      ]
    },
    {
      "cell_type": "code",
      "source": [
        "X = df.drop(columns=[target_col])\n",
        "y = df[target_col]"
      ],
      "metadata": {
        "id": "gJaKit4O4ZNt"
      },
      "execution_count": null,
      "outputs": []
    },
    {
      "cell_type": "code",
      "source": [
        "# Split into training and testing sets (80% train, 20% test)\n",
        "trainX, testX, trainY, testY = train_test_split(X, y, test_size=0.2, random_state=42)\n"
      ],
      "metadata": {
        "id": "Av-87fti6xG0"
      },
      "execution_count": null,
      "outputs": []
    },
    {
      "cell_type": "code",
      "source": [
        "# Standardize features (zero mean and unit variance)\n",
        "scaler = StandardScaler()\n",
        "trainX = scaler.fit_transform(trainX)\n",
        "testX = scaler.transform(testX)"
      ],
      "metadata": {
        "id": "NSAR52kv7GbN"
      },
      "execution_count": null,
      "outputs": []
    },
    {
      "cell_type": "code",
      "source": [
        "# =============================================================================\n",
        "# Model Training and Evaluation\n",
        "# =============================================================================\n",
        "\n",
        "# Define the classifiers, including Decision Tree\n",
        "models = {\n",
        "    \"Random Forest\": RandomForestClassifier(n_estimators=100, random_state=42),\n",
        "    \"SVM\": SVC(kernel='linear', random_state=42),\n",
        "    \"KNN\": KNeighborsClassifier(n_neighbors=5),\n",
        "    \"Logistic Regression\": LogisticRegression(random_state=42),\n",
        "    \"Decision Tree\": DecisionTreeClassifier(random_state=42),  # Added Decision Tree\n",
        "    \"K-Means\": KMeans(n_clusters=2, random_state=42)  # Unsupervised clustering baseline\n",
        "}\n"
      ],
      "metadata": {
        "id": "zWsNwqSH7VUo"
      },
      "execution_count": null,
      "outputs": []
    },
    {
      "cell_type": "code",
      "source": [
        "\n",
        "# List to hold results for summary\n",
        "results = []\n",
        "\n",
        "# Train each model, make predictions, and evaluate performance\n",
        "for name, model in models.items():\n",
        "    print(f\"\\n{'='*30}\\nModel: {name}\\n{'='*30}\")\n",
        "\n",
        "    # Fit the model on training data\n",
        "    model.fit(trainX, trainY)\n",
        "\n",
        "    # Make predictions on test data\n",
        "    predictions = model.predict(testX)\n",
        "\n",
        "    # Calculate accuracy\n",
        "    accuracy = model.score(testX, testY)\n",
        "\n",
        "    # Compute confusion matrix and classification report\n",
        "    conf_matrix = confusion_matrix(testY, predictions)\n",
        "    clf_report = classification_report(testY, predictions)\n",
        "\n",
        "    # Print evaluation metrics\n",
        "    print(f\"Accuracy: {accuracy:.4f}\")\n",
        "    print(\"Confusion Matrix:\")\n",
        "    print(conf_matrix)\n",
        "    print(\"Classification Report:\")\n",
        "    print(clf_report)\n",
        "\n",
        "    # Save results for summary table\n",
        "    results.append([name, round(accuracy * 100, 2), conf_matrix])\n",
        "\n",
        "# =============================================================================\n",
        "# Summary Table of Model Performance\n",
        "# =============================================================================\n",
        "\n",
        "results_df = pd.DataFrame(results, columns=['Model', 'Accuracy (%)', 'Confusion Matrix'])\n",
        "print(\"\\nSummary of Model Performance:\")\n",
        "print(results_df)"
      ],
      "metadata": {
        "colab": {
          "base_uri": "https://localhost:8080/"
        },
        "id": "Hdjx45eY7XA9",
        "outputId": "a5f0d908-e3e1-49d7-aa64-8bda2c5eae12"
      },
      "execution_count": null,
      "outputs": [
        {
          "output_type": "stream",
          "name": "stdout",
          "text": [
            "\n",
            "==============================\n",
            "Model: Random Forest\n",
            "==============================\n",
            "Accuracy: 0.8276\n",
            "Confusion Matrix:\n",
            "[[ 2  1]\n",
            " [ 4 22]]\n",
            "Classification Report:\n",
            "              precision    recall  f1-score   support\n",
            "\n",
            "           0       0.33      0.67      0.44         3\n",
            "           1       0.96      0.85      0.90        26\n",
            "\n",
            "    accuracy                           0.83        29\n",
            "   macro avg       0.64      0.76      0.67        29\n",
            "weighted avg       0.89      0.83      0.85        29\n",
            "\n",
            "\n",
            "==============================\n",
            "Model: SVM\n",
            "==============================\n",
            "Accuracy: 0.8276\n",
            "Confusion Matrix:\n",
            "[[ 2  1]\n",
            " [ 4 22]]\n",
            "Classification Report:\n",
            "              precision    recall  f1-score   support\n",
            "\n",
            "           0       0.33      0.67      0.44         3\n",
            "           1       0.96      0.85      0.90        26\n",
            "\n",
            "    accuracy                           0.83        29\n",
            "   macro avg       0.64      0.76      0.67        29\n",
            "weighted avg       0.89      0.83      0.85        29\n",
            "\n",
            "\n",
            "==============================\n",
            "Model: KNN\n",
            "==============================\n",
            "Accuracy: 0.7931\n",
            "Confusion Matrix:\n",
            "[[ 2  1]\n",
            " [ 5 21]]\n",
            "Classification Report:\n",
            "              precision    recall  f1-score   support\n",
            "\n",
            "           0       0.29      0.67      0.40         3\n",
            "           1       0.95      0.81      0.88        26\n",
            "\n",
            "    accuracy                           0.79        29\n",
            "   macro avg       0.62      0.74      0.64        29\n",
            "weighted avg       0.89      0.79      0.83        29\n",
            "\n",
            "\n",
            "==============================\n",
            "Model: Logistic Regression\n",
            "==============================\n",
            "Accuracy: 0.8621\n",
            "Confusion Matrix:\n",
            "[[ 2  1]\n",
            " [ 3 23]]\n",
            "Classification Report:\n",
            "              precision    recall  f1-score   support\n",
            "\n",
            "           0       0.40      0.67      0.50         3\n",
            "           1       0.96      0.88      0.92        26\n",
            "\n",
            "    accuracy                           0.86        29\n",
            "   macro avg       0.68      0.78      0.71        29\n",
            "weighted avg       0.90      0.86      0.88        29\n",
            "\n",
            "\n",
            "==============================\n",
            "Model: Decision Tree\n",
            "==============================\n",
            "Accuracy: 0.8966\n",
            "Confusion Matrix:\n",
            "[[ 2  1]\n",
            " [ 2 24]]\n",
            "Classification Report:\n",
            "              precision    recall  f1-score   support\n",
            "\n",
            "           0       0.50      0.67      0.57         3\n",
            "           1       0.96      0.92      0.94        26\n",
            "\n",
            "    accuracy                           0.90        29\n",
            "   macro avg       0.73      0.79      0.76        29\n",
            "weighted avg       0.91      0.90      0.90        29\n",
            "\n",
            "\n",
            "==============================\n",
            "Model: K-Means\n",
            "==============================\n",
            "Accuracy: -556.8967\n",
            "Confusion Matrix:\n",
            "[[ 0  3]\n",
            " [ 4 22]]\n",
            "Classification Report:\n",
            "              precision    recall  f1-score   support\n",
            "\n",
            "           0       0.00      0.00      0.00         3\n",
            "           1       0.88      0.85      0.86        26\n",
            "\n",
            "    accuracy                           0.76        29\n",
            "   macro avg       0.44      0.42      0.43        29\n",
            "weighted avg       0.79      0.76      0.77        29\n",
            "\n",
            "\n",
            "Summary of Model Performance:\n",
            "                 Model  Accuracy (%)   Confusion Matrix\n",
            "0        Random Forest         82.76  [[2, 1], [4, 22]]\n",
            "1                  SVM         82.76  [[2, 1], [4, 22]]\n",
            "2                  KNN         79.31  [[2, 1], [5, 21]]\n",
            "3  Logistic Regression         86.21  [[2, 1], [3, 23]]\n",
            "4        Decision Tree         89.66  [[2, 1], [2, 24]]\n",
            "5              K-Means     -55689.67  [[0, 3], [4, 22]]\n"
          ]
        }
      ]
    },
    {
      "cell_type": "code",
      "source": [
        "\n",
        "# =============================================================================\n",
        "# Define Plotting Functions\n",
        "# =============================================================================\n",
        "def plot_conf_matrix(cm, model_name):\n",
        "    \"\"\"Plot a nicely formatted confusion matrix.\"\"\"\n",
        "    plt.figure(figsize=(4,3))\n",
        "    sns.heatmap(cm, annot=True, fmt=\"d\", cmap=\"Blues\", cbar=False)\n",
        "    plt.title(f\"Confusion Matrix - {model_name}\")\n",
        "    plt.xlabel(\"Predicted Label\")\n",
        "    plt.ylabel(\"True Label\")\n",
        "    plt.show()\n",
        "\n",
        "def plot_precision_recall(y_true, y_scores, model_name):\n",
        "    \"\"\"Plot the Precision-Recall Curve.\"\"\"\n",
        "    precision, recall, _ = precision_recall_curve(y_true, y_scores)\n",
        "    plt.figure(figsize=(4,3))\n",
        "    plt.plot(recall, precision, marker='.')\n",
        "    plt.title(f\"Precision-Recall Curve - {model_name}\")\n",
        "    plt.xlabel(\"Recall\")\n",
        "    plt.ylabel(\"Precision\")\n",
        "    plt.show()\n",
        "\n",
        "def plot_roc(y_true, y_scores, model_name):\n",
        "    \"\"\"Plot the ROC Curve and display the AUC.\"\"\"\n",
        "    fpr, tpr, _ = roc_curve(y_true, y_scores)\n",
        "    roc_auc = auc(fpr, tpr)\n",
        "    plt.figure(figsize=(4,3))\n",
        "    plt.plot(fpr, tpr, label=f\"AUC = {roc_auc:.2f}\")\n",
        "    plt.plot([0, 1], [0, 1], '--', color='gray')\n",
        "    plt.title(f\"ROC Curve - {model_name}\")\n",
        "    plt.xlabel(\"False Positive Rate\")\n",
        "    plt.ylabel(\"True Positive Rate\")\n",
        "    plt.legend(loc=\"lower right\")\n",
        "    plt.show()\n",
        "\n",
        "# =============================================================================\n",
        "# Model Training, Evaluation, and Visualization\n",
        "# =============================================================================\n",
        "\n",
        "results = []\n",
        "\n",
        "for name, model in models.items():\n",
        "    print(f\"\\n{'='*30}\\nModel: {name}\\n{'='*30}\")\n",
        "\n",
        "    # Train the model\n",
        "    model.fit(trainX, trainY)\n",
        "\n",
        "    # Make predictions on the test set\n",
        "    predictions = model.predict(testX)\n",
        "\n",
        "    # Calculate accuracy and other metrics\n",
        "    accuracy = model.score(testX, testY)\n",
        "    cm = confusion_matrix(testY, predictions)\n",
        "    report = classification_report(testY, predictions)\n",
        "\n",
        "    print(f\"Accuracy: {accuracy:.4f}\")\n",
        "    print(\"Confusion Matrix:\")\n",
        "    print(cm)\n",
        "    print(\"Classification Report:\")\n",
        "    print(report)\n",
        "\n",
        "    # Save results for summary table\n",
        "    results.append([name, round(accuracy * 100, 2), cm])\n",
        "\n",
        "    # Plot the confusion matrix\n",
        "    plot_conf_matrix(cm, name)\n",
        "\n",
        "    # For models that support probability estimates (or decision_function), plot ROC and Precision-Recall curves.\n",
        "    if hasattr(model, \"predict_proba\"):\n",
        "        # Get probability estimates for the positive class\n",
        "        y_scores = model.predict_proba(testX)[:, 1]\n",
        "        plot_precision_recall(testY, y_scores, name)\n",
        "        plot_roc(testY, y_scores, name)\n",
        "    elif hasattr(model, \"decision_function\"):\n",
        "        y_scores = model.decision_function(testX)\n",
        "        plot_precision_recall(testY, y_scores, name)\n",
        "        plot_roc(testY, y_scores, name)\n",
        "    else:\n",
        "        print(f\"{name} does not support probability estimates for ROC and PR curves.\")\n",
        "\n",
        "# =============================================================================\n",
        "# Summary of Model Performance\n",
        "# =============================================================================\n",
        "results_df = pd.DataFrame(results, columns=['Model', 'Accuracy (%)', 'Confusion Matrix'])\n",
        "print(\"\\nSummary of Model Performance:\")\n",
        "print(results_df)"
      ],
      "metadata": {
        "colab": {
          "base_uri": "https://localhost:8080/",
          "height": 961
        },
        "id": "soxOhPPz-IDE",
        "outputId": "60303259-496d-4158-a2b0-294894aaf73e"
      },
      "execution_count": null,
      "outputs": [
        {
          "output_type": "stream",
          "name": "stdout",
          "text": [
            "\n",
            "==============================\n",
            "Model: Random Forest\n",
            "==============================\n",
            "Accuracy: 0.8276\n",
            "Confusion Matrix:\n",
            "[[ 2  1]\n",
            " [ 4 22]]\n",
            "Classification Report:\n",
            "              precision    recall  f1-score   support\n",
            "\n",
            "           0       0.33      0.67      0.44         3\n",
            "           1       0.96      0.85      0.90        26\n",
            "\n",
            "    accuracy                           0.83        29\n",
            "   macro avg       0.64      0.76      0.67        29\n",
            "weighted avg       0.89      0.83      0.85        29\n",
            "\n"
          ]
        },
        {
          "output_type": "display_data",
          "data": {
            "text/plain": [
              "<Figure size 400x300 with 1 Axes>"
            ],
            "image/png": "[encoded data removed]"
          },
          "metadata": {}
        },
        {
          "output_type": "error",
          "ename": "NameError",
          "evalue": "name 'precision_recall_curve' is not defined",
          "traceback": [
            "\u001b[0;31m---------------------------------------------------------------------------\u001b[0m",
            "\u001b[0;31mNameError\u001b[0m                                 Traceback (most recent call last)",
            "\u001b[0;32m<ipython-input-50-cc932371a913>\u001b[0m in \u001b[0;36m<cell line: 0>\u001b[0;34m()\u001b[0m\n\u001b[1;32m     70\u001b[0m         \u001b[0;31m# Get probability estimates for the positive class\u001b[0m\u001b[0;34m\u001b[0m\u001b[0;34m\u001b[0m\u001b[0m\n\u001b[1;32m     71\u001b[0m         \u001b[0my_scores\u001b[0m \u001b[0;34m=\u001b[0m \u001b[0mmodel\u001b[0m\u001b[0;34m.\u001b[0m\u001b[0mpredict_proba\u001b[0m\u001b[0;34m(\u001b[0m\u001b[0mtestX\u001b[0m\u001b[0;34m)\u001b[0m\u001b[0;34m[\u001b[0m\u001b[0;34m:\u001b[0m\u001b[0;34m,\u001b[0m \u001b[0;36m1\u001b[0m\u001b[0;34m]\u001b[0m\u001b[0;34m\u001b[0m\u001b[0;34m\u001b[0m\u001b[0m\n\u001b[0;32m---> 72\u001b[0;31m         \u001b[0mplot_precision_recall\u001b[0m\u001b[0;34m(\u001b[0m\u001b[0mtestY\u001b[0m\u001b[0;34m,\u001b[0m \u001b[0my_scores\u001b[0m\u001b[0;34m,\u001b[0m \u001b[0mname\u001b[0m\u001b[0;34m)\u001b[0m\u001b[0;34m\u001b[0m\u001b[0;34m\u001b[0m\u001b[0m\n\u001b[0m\u001b[1;32m     73\u001b[0m         \u001b[0mplot_roc\u001b[0m\u001b[0;34m(\u001b[0m\u001b[0mtestY\u001b[0m\u001b[0;34m,\u001b[0m \u001b[0my_scores\u001b[0m\u001b[0;34m,\u001b[0m \u001b[0mname\u001b[0m\u001b[0;34m)\u001b[0m\u001b[0;34m\u001b[0m\u001b[0;34m\u001b[0m\u001b[0m\n\u001b[1;32m     74\u001b[0m     \u001b[0;32melif\u001b[0m \u001b[0mhasattr\u001b[0m\u001b[0;34m(\u001b[0m\u001b[0mmodel\u001b[0m\u001b[0;34m,\u001b[0m \u001b[0;34m\"decision_function\"\u001b[0m\u001b[0;34m)\u001b[0m\u001b[0;34m:\u001b[0m\u001b[0;34m\u001b[0m\u001b[0;34m\u001b[0m\u001b[0m\n",
            "\u001b[0;32m<ipython-input-50-cc932371a913>\u001b[0m in \u001b[0;36mplot_precision_recall\u001b[0;34m(y_true, y_scores, model_name)\u001b[0m\n\u001b[1;32m     13\u001b[0m \u001b[0;32mdef\u001b[0m \u001b[0mplot_precision_recall\u001b[0m\u001b[0;34m(\u001b[0m\u001b[0my_true\u001b[0m\u001b[0;34m,\u001b[0m \u001b[0my_scores\u001b[0m\u001b[0;34m,\u001b[0m \u001b[0mmodel_name\u001b[0m\u001b[0;34m)\u001b[0m\u001b[0;34m:\u001b[0m\u001b[0;34m\u001b[0m\u001b[0;34m\u001b[0m\u001b[0m\n\u001b[1;32m     14\u001b[0m     \u001b[0;34m\"\"\"Plot the Precision-Recall Curve.\"\"\"\u001b[0m\u001b[0;34m\u001b[0m\u001b[0;34m\u001b[0m\u001b[0m\n\u001b[0;32m---> 15\u001b[0;31m     \u001b[0mprecision\u001b[0m\u001b[0;34m,\u001b[0m \u001b[0mrecall\u001b[0m\u001b[0;34m,\u001b[0m \u001b[0m_\u001b[0m \u001b[0;34m=\u001b[0m \u001b[0mprecision_recall_curve\u001b[0m\u001b[0;34m(\u001b[0m\u001b[0my_true\u001b[0m\u001b[0;34m,\u001b[0m \u001b[0my_scores\u001b[0m\u001b[0;34m)\u001b[0m\u001b[0;34m\u001b[0m\u001b[0;34m\u001b[0m\u001b[0m\n\u001b[0m\u001b[1;32m     16\u001b[0m     \u001b[0mplt\u001b[0m\u001b[0;34m.\u001b[0m\u001b[0mfigure\u001b[0m\u001b[0;34m(\u001b[0m\u001b[0mfigsize\u001b[0m\u001b[0;34m=\u001b[0m\u001b[0;34m(\u001b[0m\u001b[0;36m4\u001b[0m\u001b[0;34m,\u001b[0m\u001b[0;36m3\u001b[0m\u001b[0;34m)\u001b[0m\u001b[0;34m)\u001b[0m\u001b[0;34m\u001b[0m\u001b[0;34m\u001b[0m\u001b[0m\n\u001b[1;32m     17\u001b[0m     \u001b[0mplt\u001b[0m\u001b[0;34m.\u001b[0m\u001b[0mplot\u001b[0m\u001b[0;34m(\u001b[0m\u001b[0mrecall\u001b[0m\u001b[0;34m,\u001b[0m \u001b[0mprecision\u001b[0m\u001b[0;34m,\u001b[0m \u001b[0mmarker\u001b[0m\u001b[0;34m=\u001b[0m\u001b[0;34m'.'\u001b[0m\u001b[0;34m)\u001b[0m\u001b[0;34m\u001b[0m\u001b[0;34m\u001b[0m\u001b[0m\n",
            "\u001b[0;31mNameError\u001b[0m: name 'precision_recall_curve' is not defined"
          ]
        }
      ]
    }
  ]
}